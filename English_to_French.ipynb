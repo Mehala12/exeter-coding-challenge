{
  "nbformat": 4,
  "nbformat_minor": 0,
  "metadata": {
    "kernelspec": {
      "display_name": "Python 3",
      "language": "python",
      "name": "python3"
    },
    "language_info": {
      "codemirror_mode": {
        "name": "ipython",
        "version": 3
      },
      "file_extension": ".py",
      "mimetype": "text/x-python",
      "name": "python",
      "nbconvert_exporter": "python",
      "pygments_lexer": "ipython3",
      "version": "3.7.9"
    },
    "colab": {
      "name": "English to French.ipynb",
      "provenance": []
    }
  },
  "cells": [
    {
      "cell_type": "code",
      "metadata": {
        "id": "VqDKBOmL6yzh"
      },
      "source": [
        "import csv\n",
        "import time\n",
        "start= time.time()\n",
        "dicfile = open(\"french_dictionary.csv\",\"r\")\n",
        "\n",
        "my_dic={}\n",
        "for line in dicfile:\n",
        "    currentline=line.rstrip(\"\\n\").split(',')\n",
        "    my_dic[currentline[0]]=currentline[1]"
      ],
      "execution_count": 1,
      "outputs": []
    },
    {
      "cell_type": "code",
      "metadata": {
        "id": "5WtUemVq6yzi"
      },
      "source": [
        "#%%time\n",
        "frequency = {}\n",
        "sorucefile = open( 't8.shakespeare.txt', 'r+' )\n",
        "tempfile=open( 't8.shakespeare.translated.txt', 'w' )\n",
        "for line in sorucefile:\n",
        "\n",
        "    for word in line.split(' '):\n",
        "\n",
        "      if word!='\\n' and word in my_dic.keys():\n",
        "\n",
        "          tempfile.write(my_dic[word]+\" \")\n",
        "          if word in frequency:\n",
        "            frequency[word]+=1\n",
        "          else:\n",
        "            frequency[word]=1\n",
        "      else:\n",
        "        tempfile.write(word+\" \")\n",
        "\n",
        "\n",
        "tempfile.close()"
      ],
      "execution_count": 2,
      "outputs": []
    },
    {
      "cell_type": "code",
      "metadata": {
        "id": "QNQKXL_sp4Tw"
      },
      "source": [
        "from collections import OrderedDict\n",
        "occurence = OrderedDict(sorted(frequency.items()))"
      ],
      "execution_count": 3,
      "outputs": []
    },
    {
      "cell_type": "code",
      "metadata": {
        "id": "Rs9Eh0uz71h-"
      },
      "source": [
        "csvwriter=open(\"frequency.csv\",\"w\")\n",
        "freq=csv.writer(csvwriter)\n",
        "freq.writerow(['English word','French word','Frequency'])\n",
        "\n",
        "for key in list(occurence.keys()):\n",
        "    freq.writerow([key,my_dic[key],occurence[key]])\n",
        "csvwriter.close()\n",
        "end=time.time()"
      ],
      "execution_count": 4,
      "outputs": []
    },
    {
      "cell_type": "code",
      "metadata": {
        "id": "7SjSbkWCFWAQ",
        "colab": {
          "base_uri": "https://localhost:8080/"
        },
        "outputId": "0d86115e-fc2a-4bbb-8dc5-025455dc72db"
      },
      "source": [
        "!pip install humanfriendly"
      ],
      "execution_count": 5,
      "outputs": [
        {
          "output_type": "stream",
          "text": [
            "Collecting humanfriendly\n",
            "  Downloading humanfriendly-9.2-py2.py3-none-any.whl (86 kB)\n",
            "\u001b[?25l\r\u001b[K     |███▉                            | 10 kB 26.0 MB/s eta 0:00:01\r\u001b[K     |███████▋                        | 20 kB 26.0 MB/s eta 0:00:01\r\u001b[K     |███████████▍                    | 30 kB 11.6 MB/s eta 0:00:01\r\u001b[K     |███████████████▏                | 40 kB 9.1 MB/s eta 0:00:01\r\u001b[K     |███████████████████             | 51 kB 4.9 MB/s eta 0:00:01\r\u001b[K     |██████████████████████▊         | 61 kB 5.3 MB/s eta 0:00:01\r\u001b[K     |██████████████████████████▌     | 71 kB 5.6 MB/s eta 0:00:01\r\u001b[K     |██████████████████████████████▎ | 81 kB 6.1 MB/s eta 0:00:01\r\u001b[K     |████████████████████████████████| 86 kB 3.0 MB/s \n",
            "\u001b[?25hInstalling collected packages: humanfriendly\n",
            "Successfully installed humanfriendly-9.2\n"
          ],
          "name": "stdout"
        }
      ]
    },
    {
      "cell_type": "code",
      "metadata": {
        "id": "wfQFiff990uK"
      },
      "source": [
        "import os, psutil\n",
        "from humanfriendly import format_timespan\n",
        "str1=\"Time to process: \"+format_timespan(end-start)\n",
        "str2=\"Memory used: \"+str(psutil.Process(os.getpid()).memory_info().rss / 1024 ** 2)+\" MB\"\n",
        "\n",
        "with open(\"performance.txt\",\"w\") as per:\n",
        "    per.write(str1+\"\\n\"+str2)"
      ],
      "execution_count": 6,
      "outputs": []
    },
    {
      "cell_type": "code",
      "metadata": {
        "id": "e5e7pHH_FUND"
      },
      "source": [
        ""
      ],
      "execution_count": null,
      "outputs": []
    }
  ]
}